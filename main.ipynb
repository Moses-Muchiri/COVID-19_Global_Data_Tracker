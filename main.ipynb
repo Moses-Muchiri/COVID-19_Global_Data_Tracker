{
 "cells": [
  {
   "cell_type": "code",
   "execution_count": 3,
   "id": "7e8505d7-0427-415b-a80f-4835c72df276",
   "metadata": {},
   "outputs": [],
   "source": [
    "# Imports\n",
    "import pandas as pd\n",
    "import matplotlib.pyplot as plt\n",
    "import seaborn as sns\n",
    "import plotly.express as px"
   ]
  },
  {
   "cell_type": "code",
   "execution_count": 4,
   "id": "c5c64f97-3c8f-4f4f-80db-cb778b8da8a5",
   "metadata": {},
   "outputs": [],
   "source": [
    "# Load OWID Data\n",
    "df = pd.read_csv(\"owid-covid-data.csv\")"
   ]
  },
  {
   "cell_type": "code",
   "execution_count": 5,
   "id": "a2acca67-7b22-4eae-81d8-ad9fea86cfd4",
   "metadata": {},
   "outputs": [
    {
     "name": "stdout",
     "output_type": "stream",
     "text": [
      "Columns: ['iso_code', 'continent', 'location', 'date', 'total_cases', 'new_cases', 'new_cases_smoothed', 'total_deaths', 'new_deaths', 'new_deaths_smoothed', 'total_cases_per_million', 'new_cases_per_million', 'new_cases_smoothed_per_million', 'total_deaths_per_million', 'new_deaths_per_million', 'new_deaths_smoothed_per_million', 'reproduction_rate', 'icu_patients', 'icu_patients_per_million', 'hosp_patients', 'hosp_patients_per_million', 'weekly_icu_admissions', 'weekly_icu_admissions_per_million', 'weekly_hosp_admissions', 'weekly_hosp_admissions_per_million', 'total_tests', 'new_tests', 'total_tests_per_thousand', 'new_tests_per_thousand', 'new_tests_smoothed', 'new_tests_smoothed_per_thousand', 'positive_rate', 'tests_per_case', 'tests_units', 'total_vaccinations', 'people_vaccinated', 'people_fully_vaccinated', 'total_boosters', 'new_vaccinations', 'new_vaccinations_smoothed', 'total_vaccinations_per_hundred', 'people_vaccinated_per_hundred', 'people_fully_vaccinated_per_hundred', 'total_boosters_per_hundred', 'new_vaccinations_smoothed_per_million', 'new_people_vaccinated_smoothed', 'new_people_vaccinated_smoothed_per_hundred', 'stringency_index', 'population_density', 'median_age', 'aged_65_older', 'aged_70_older', 'gdp_per_capita', 'extreme_poverty', 'cardiovasc_death_rate', 'diabetes_prevalence', 'female_smokers', 'male_smokers', 'handwashing_facilities', 'hospital_beds_per_thousand', 'life_expectancy', 'human_development_index', 'population', 'excess_mortality_cumulative_absolute', 'excess_mortality_cumulative', 'excess_mortality', 'excess_mortality_cumulative_per_million']\n"
     ]
    },
    {
     "data": {
      "text/html": [
       "<div>\n",
       "<style scoped>\n",
       "    .dataframe tbody tr th:only-of-type {\n",
       "        vertical-align: middle;\n",
       "    }\n",
       "\n",
       "    .dataframe tbody tr th {\n",
       "        vertical-align: top;\n",
       "    }\n",
       "\n",
       "    .dataframe thead th {\n",
       "        text-align: right;\n",
       "    }\n",
       "</style>\n",
       "<table border=\"1\" class=\"dataframe\">\n",
       "  <thead>\n",
       "    <tr style=\"text-align: right;\">\n",
       "      <th></th>\n",
       "      <th>iso_code</th>\n",
       "      <th>continent</th>\n",
       "      <th>location</th>\n",
       "      <th>date</th>\n",
       "      <th>total_cases</th>\n",
       "      <th>new_cases</th>\n",
       "      <th>new_cases_smoothed</th>\n",
       "      <th>total_deaths</th>\n",
       "      <th>new_deaths</th>\n",
       "      <th>new_deaths_smoothed</th>\n",
       "      <th>...</th>\n",
       "      <th>male_smokers</th>\n",
       "      <th>handwashing_facilities</th>\n",
       "      <th>hospital_beds_per_thousand</th>\n",
       "      <th>life_expectancy</th>\n",
       "      <th>human_development_index</th>\n",
       "      <th>population</th>\n",
       "      <th>excess_mortality_cumulative_absolute</th>\n",
       "      <th>excess_mortality_cumulative</th>\n",
       "      <th>excess_mortality</th>\n",
       "      <th>excess_mortality_cumulative_per_million</th>\n",
       "    </tr>\n",
       "  </thead>\n",
       "  <tbody>\n",
       "    <tr>\n",
       "      <th>0</th>\n",
       "      <td>AFG</td>\n",
       "      <td>Asia</td>\n",
       "      <td>Afghanistan</td>\n",
       "      <td>2020-01-05</td>\n",
       "      <td>0.0</td>\n",
       "      <td>0.0</td>\n",
       "      <td>NaN</td>\n",
       "      <td>0.0</td>\n",
       "      <td>0.0</td>\n",
       "      <td>NaN</td>\n",
       "      <td>...</td>\n",
       "      <td>NaN</td>\n",
       "      <td>37.75</td>\n",
       "      <td>0.5</td>\n",
       "      <td>64.83</td>\n",
       "      <td>0.51</td>\n",
       "      <td>41128772</td>\n",
       "      <td>NaN</td>\n",
       "      <td>NaN</td>\n",
       "      <td>NaN</td>\n",
       "      <td>NaN</td>\n",
       "    </tr>\n",
       "    <tr>\n",
       "      <th>1</th>\n",
       "      <td>AFG</td>\n",
       "      <td>Asia</td>\n",
       "      <td>Afghanistan</td>\n",
       "      <td>2020-01-06</td>\n",
       "      <td>0.0</td>\n",
       "      <td>0.0</td>\n",
       "      <td>NaN</td>\n",
       "      <td>0.0</td>\n",
       "      <td>0.0</td>\n",
       "      <td>NaN</td>\n",
       "      <td>...</td>\n",
       "      <td>NaN</td>\n",
       "      <td>37.75</td>\n",
       "      <td>0.5</td>\n",
       "      <td>64.83</td>\n",
       "      <td>0.51</td>\n",
       "      <td>41128772</td>\n",
       "      <td>NaN</td>\n",
       "      <td>NaN</td>\n",
       "      <td>NaN</td>\n",
       "      <td>NaN</td>\n",
       "    </tr>\n",
       "    <tr>\n",
       "      <th>2</th>\n",
       "      <td>AFG</td>\n",
       "      <td>Asia</td>\n",
       "      <td>Afghanistan</td>\n",
       "      <td>2020-01-07</td>\n",
       "      <td>0.0</td>\n",
       "      <td>0.0</td>\n",
       "      <td>NaN</td>\n",
       "      <td>0.0</td>\n",
       "      <td>0.0</td>\n",
       "      <td>NaN</td>\n",
       "      <td>...</td>\n",
       "      <td>NaN</td>\n",
       "      <td>37.75</td>\n",
       "      <td>0.5</td>\n",
       "      <td>64.83</td>\n",
       "      <td>0.51</td>\n",
       "      <td>41128772</td>\n",
       "      <td>NaN</td>\n",
       "      <td>NaN</td>\n",
       "      <td>NaN</td>\n",
       "      <td>NaN</td>\n",
       "    </tr>\n",
       "    <tr>\n",
       "      <th>3</th>\n",
       "      <td>AFG</td>\n",
       "      <td>Asia</td>\n",
       "      <td>Afghanistan</td>\n",
       "      <td>2020-01-08</td>\n",
       "      <td>0.0</td>\n",
       "      <td>0.0</td>\n",
       "      <td>NaN</td>\n",
       "      <td>0.0</td>\n",
       "      <td>0.0</td>\n",
       "      <td>NaN</td>\n",
       "      <td>...</td>\n",
       "      <td>NaN</td>\n",
       "      <td>37.75</td>\n",
       "      <td>0.5</td>\n",
       "      <td>64.83</td>\n",
       "      <td>0.51</td>\n",
       "      <td>41128772</td>\n",
       "      <td>NaN</td>\n",
       "      <td>NaN</td>\n",
       "      <td>NaN</td>\n",
       "      <td>NaN</td>\n",
       "    </tr>\n",
       "    <tr>\n",
       "      <th>4</th>\n",
       "      <td>AFG</td>\n",
       "      <td>Asia</td>\n",
       "      <td>Afghanistan</td>\n",
       "      <td>2020-01-09</td>\n",
       "      <td>0.0</td>\n",
       "      <td>0.0</td>\n",
       "      <td>NaN</td>\n",
       "      <td>0.0</td>\n",
       "      <td>0.0</td>\n",
       "      <td>NaN</td>\n",
       "      <td>...</td>\n",
       "      <td>NaN</td>\n",
       "      <td>37.75</td>\n",
       "      <td>0.5</td>\n",
       "      <td>64.83</td>\n",
       "      <td>0.51</td>\n",
       "      <td>41128772</td>\n",
       "      <td>NaN</td>\n",
       "      <td>NaN</td>\n",
       "      <td>NaN</td>\n",
       "      <td>NaN</td>\n",
       "    </tr>\n",
       "  </tbody>\n",
       "</table>\n",
       "<p>5 rows × 67 columns</p>\n",
       "</div>"
      ],
      "text/plain": [
       "  iso_code continent     location        date  total_cases  new_cases  \\\n",
       "0      AFG      Asia  Afghanistan  2020-01-05          0.0        0.0   \n",
       "1      AFG      Asia  Afghanistan  2020-01-06          0.0        0.0   \n",
       "2      AFG      Asia  Afghanistan  2020-01-07          0.0        0.0   \n",
       "3      AFG      Asia  Afghanistan  2020-01-08          0.0        0.0   \n",
       "4      AFG      Asia  Afghanistan  2020-01-09          0.0        0.0   \n",
       "\n",
       "   new_cases_smoothed  total_deaths  new_deaths  new_deaths_smoothed  ...  \\\n",
       "0                 NaN           0.0         0.0                  NaN  ...   \n",
       "1                 NaN           0.0         0.0                  NaN  ...   \n",
       "2                 NaN           0.0         0.0                  NaN  ...   \n",
       "3                 NaN           0.0         0.0                  NaN  ...   \n",
       "4                 NaN           0.0         0.0                  NaN  ...   \n",
       "\n",
       "   male_smokers  handwashing_facilities  hospital_beds_per_thousand  \\\n",
       "0           NaN                   37.75                         0.5   \n",
       "1           NaN                   37.75                         0.5   \n",
       "2           NaN                   37.75                         0.5   \n",
       "3           NaN                   37.75                         0.5   \n",
       "4           NaN                   37.75                         0.5   \n",
       "\n",
       "   life_expectancy  human_development_index  population  \\\n",
       "0            64.83                     0.51    41128772   \n",
       "1            64.83                     0.51    41128772   \n",
       "2            64.83                     0.51    41128772   \n",
       "3            64.83                     0.51    41128772   \n",
       "4            64.83                     0.51    41128772   \n",
       "\n",
       "   excess_mortality_cumulative_absolute  excess_mortality_cumulative  \\\n",
       "0                                   NaN                          NaN   \n",
       "1                                   NaN                          NaN   \n",
       "2                                   NaN                          NaN   \n",
       "3                                   NaN                          NaN   \n",
       "4                                   NaN                          NaN   \n",
       "\n",
       "   excess_mortality  excess_mortality_cumulative_per_million  \n",
       "0               NaN                                      NaN  \n",
       "1               NaN                                      NaN  \n",
       "2               NaN                                      NaN  \n",
       "3               NaN                                      NaN  \n",
       "4               NaN                                      NaN  \n",
       "\n",
       "[5 rows x 67 columns]"
      ]
     },
     "execution_count": 5,
     "metadata": {},
     "output_type": "execute_result"
    }
   ],
   "source": [
    "# Data Preview\n",
    "print(\"Columns:\", df.columns.tolist())\n",
    "df.head()"
   ]
  },
  {
   "cell_type": "code",
   "execution_count": 6,
   "id": "1100950b-e449-4737-ae70-c8d82b281c28",
   "metadata": {},
   "outputs": [],
   "source": [
    "# Data Cleaning prior to visualizations\n",
    "df['date'] = pd.to_datetime(df['date'])\n",
    "countries = ['Kenya', 'United States', 'India']\n",
    "df = df[df['location'].isin(countries)]\n",
    "df.fillna(0, inplace=True)"
   ]
  },
  {
   "cell_type": "code",
   "execution_count": 7,
   "id": "27703921-904b-40a1-bfbc-af6a9b228716",
   "metadata": {},
   "outputs": [
    {
     "data": {
      "image/png": "[encoded data removed]",
      "text/plain": [
       "<Figure size 1200x600 with 1 Axes>"
      ]
     },
     "metadata": {},
     "output_type": "display_data"
    }
   ],
   "source": [
    "# EDA: Total Cases Over Time\n",
    "plt.figure(figsize=(12, 6))\n",
    "for country in countries:\n",
    "    subset = df[df['location'] == country]\n",
    "    plt.plot(subset['date'], subset['total_cases'], label=country)\n",
    "\n",
    "plt.title(\"Total COVID-19 Cases Over Time\")\n",
    "plt.xlabel(\"Date\")\n",
    "plt.ylabel(\"Total Cases\")\n",
    "plt.legend()\n",
    "plt.grid(True)\n",
    "plt.tight_layout()\n",
    "plt.show()"
   ]
  },
  {
   "cell_type": "code",
   "execution_count": 8,
   "id": "0614705e-0b1f-4924-94ba-ea0a3e491fdd",
   "metadata": {},
   "outputs": [
    {
     "data": {
      "image/png": "[encoded data removed]",
      "text/plain": [
       "<Figure size 1200x600 with 1 Axes>"
      ]
     },
     "metadata": {},
     "output_type": "display_data"
    }
   ],
   "source": [
    "# Daily New Cases\n",
    "plt.figure(figsize=(12, 6))\n",
    "sns.lineplot(data=df, x='date', y='new_cases', hue='location')\n",
    "plt.title(\"Daily New COVID-19 Cases\")\n",
    "plt.ylabel(\"New Cases\")\n",
    "plt.xlabel(\"Date\")\n",
    "plt.grid(True)\n",
    "plt.tight_layout()\n",
    "plt.show()"
   ]
  },
  {
   "cell_type": "code",
   "execution_count": 9,
   "id": "50ada666-ac96-4903-b151-c9d4b48fb0ca",
   "metadata": {},
   "outputs": [
    {
     "data": {
      "image/png": "[encoded data removed]",
      "text/plain": [
       "<Figure size 1200x600 with 1 Axes>"
      ]
     },
     "metadata": {},
     "output_type": "display_data"
    }
   ],
   "source": [
    "# Total Deaths Over Time\n",
    "plt.figure(figsize=(12, 6))\n",
    "for country in countries:\n",
    "    subset = df[df['location'] == country]\n",
    "    plt.plot(subset['date'], subset['total_deaths'], label=country)\n",
    "\n",
    "plt.title(\"Total Deaths Over Time\")\n",
    "plt.xlabel(\"Date\")\n",
    "plt.ylabel(\"Deaths\")\n",
    "plt.legend()\n",
    "plt.grid(True)\n",
    "plt.tight_layout()\n",
    "plt.show()"
   ]
  },
  {
   "cell_type": "code",
   "execution_count": 12,
   "id": "f2ca9349-da2c-42a2-912a-a4e10cfc5b8e",
   "metadata": {},
   "outputs": [
    {
     "data": {
      "image/png": "[encoded data removed]",
      "text/plain": [
       "<Figure size 1200x600 with 1 Axes>"
      ]
     },
     "metadata": {},
     "output_type": "display_data"
    }
   ],
   "source": [
    "# Vaccination Progress\n",
    "plt.figure(figsize=(12, 6))\n",
    "for country in countries:\n",
    "    subset = df[df['location'] == country]\n",
    "    plt.plot(subset['date'], subset['total_vaccinations'], label=country)\n",
    "\n",
    "plt.title(\"Vaccination Rollout Over Time\")\n",
    "plt.xlabel(\"Date\")\n",
    "plt.ylabel(\"Total Vaccinations\")\n",
    "plt.legend()\n",
    "plt.grid(True)\n",
    "plt.tight_layout()\n",
    "plt.show()"
   ]
  },
  {
   "cell_type": "code",
   "execution_count": 17,
   "id": "90194ae9-8646-4a1b-94d1-311a026dc9b2",
   "metadata": {},
   "outputs": [
    {
     "data": {
      "application/vnd.plotly.v1+json": {
       "config": {
        "plotlyServerURL": "https://plot.ly"
       },
       "data": [
        {
         "coloraxis": "coloraxis",
         "geo": "geo",
         "hovertemplate": "<b>%{hovertext}</b><br><br>iso_code=%{location}<br>total_cases=%{z}<extra></extra>",
         "hovertext": [
          "Aruba",
          "Afghanistan",
          "Angola",
          "Anguilla",
          "Albania",
          "Andorra",
          "United Arab Emirates",
          "Argentina",
          "Armenia",
          "American Samoa",
          "Antigua and Barbuda",
          "Australia",
          "Austria",
          "Azerbaijan",
          "Burundi",
          "Belgium",
          "Benin",
          "Bonaire Sint Eustatius and Saba",
          "Burkina Faso",
          "Bangladesh",
          "Bulgaria",
          "Bahrain",
          "Bahamas",
          "Bosnia and Herzegovina",
          "Saint Barthelemy",
          "Belarus",
          "Belize",
          "Bermuda",
          "Bolivia",
          "Brazil",
          "Barbados",
          "Brunei",
          "Bhutan",
          "Botswana",
          "Central African Republic",
          "Canada",
          "Switzerland",
          "Chile",
          "China",
          "Cote d'Ivoire",
          "Cameroon",
          "Democratic Republic of Congo",
          "Congo",
          "Cook Islands",
          "Colombia",
          "Comoros",
          "Cape Verde",
          "Costa Rica",
          "Cuba",
          "Curacao",
          "Cayman Islands",
          "Cyprus",
          "Czechia",
          "Germany",
          "Djibouti",
          "Dominica",
          "Denmark",
          "Dominican Republic",
          "Algeria",
          "Ecuador",
          "Egypt",
          "Eritrea",
          "Spain",
          "Estonia",
          "Ethiopia",
          "Finland",
          "Fiji",
          "Falkland Islands",
          "France",
          "Faroe Islands",
          "Micronesia (country)",
          "Gabon",
          "United Kingdom",
          "Georgia",
          "Guernsey",
          "Ghana",
          "Gibraltar",
          "Guinea",
          "Guadeloupe",
          "Gambia",
          "Guinea-Bissau",
          "Equatorial Guinea",
          "Greece",
          "Grenada",
          "Greenland",
          "Guatemala",
          "French Guiana",
          "Guam",
          "Guyana",
          "Honduras",
          "Croatia",
          "Haiti",
          "Hungary",
          "Indonesia",
          "Isle of Man",
          "India",
          "Ireland",
          "Iran",
          "Iraq",
          "Iceland",
          "Israel",
          "Italy",
          "Jamaica",
          "Jersey",
          "Jordan",
          "Japan",
          "Kazakhstan",
          "Kenya",
          "Kyrgyzstan",
          "Cambodia",
          "Kiribati",
          "Saint Kitts and Nevis",
          "South Korea",
          "Kuwait",
          "Laos",
          "Lebanon",
          "Liberia",
          "Libya",
          "Saint Lucia",
          "Liechtenstein",
          "Sri Lanka",
          "Lesotho",
          "Lithuania",
          "Luxembourg",
          "Latvia",
          "Saint Martin (French part)",
          "Morocco",
          "Monaco",
          "Moldova",
          "Madagascar",
          "Maldives",
          "Mexico",
          "Marshall Islands",
          "North Macedonia",
          "Mali",
          "Malta",
          "Myanmar",
          "Montenegro",
          "Mongolia",
          "Northern Mariana Islands",
          "Mozambique",
          "Mauritania",
          "Montserrat",
          "Martinique",
          "Mauritius",
          "Malawi",
          "Malaysia",
          "Mayotte",
          "Namibia",
          "New Caledonia",
          "Niger",
          "Nigeria",
          "Nicaragua",
          "Niue",
          "Netherlands",
          "Norway",
          "Nepal",
          "Nauru",
          "New Zealand",
          "Oman",
          "Pakistan",
          "Panama",
          "Pitcairn",
          "Peru",
          "Philippines",
          "Palau",
          "Papua New Guinea",
          "Poland",
          "Puerto Rico",
          "North Korea",
          "Portugal",
          "Paraguay",
          "Palestine",
          "French Polynesia",
          "Qatar",
          "Reunion",
          "Romania",
          "Russia",
          "Rwanda",
          "Saudi Arabia",
          "Sudan",
          "Senegal",
          "Singapore",
          "Saint Helena",
          "Solomon Islands",
          "Sierra Leone",
          "El Salvador",
          "San Marino",
          "Somalia",
          "Saint Pierre and Miquelon",
          "Serbia",
          "South Sudan",
          "Sao Tome and Principe",
          "Suriname",
          "Slovakia",
          "Slovenia",
          "Sweden",
          "Eswatini",
          "Sint Maarten (Dutch part)",
          "Seychelles",
          "Syria",
          "Turks and Caicos Islands",
          "Chad",
          "Togo",
          "Thailand",
          "Tajikistan",
          "Tokelau",
          "Turkmenistan",
          "East Timor",
          "Tonga",
          "Trinidad and Tobago",
          "Tunisia",
          "Turkey",
          "Tuvalu",
          "Tanzania",
          "Uganda",
          "Ukraine",
          "Uruguay",
          "United States",
          "Uzbekistan",
          "Vatican",
          "Saint Vincent and the Grenadines",
          "Venezuela",
          "British Virgin Islands",
          "United States Virgin Islands",
          "Vietnam",
          "Vanuatu",
          "Wallis and Futuna",
          "Samoa",
          "Yemen",
          "South Africa",
          "Zambia",
          "Zimbabwe"
         ],
         "locations": [
          "ABW",
          "AFG",
          "AGO",
          "AIA",
          "ALB",
          "AND",
          "ARE",
          "ARG",
          "ARM",
          "ASM",
          "ATG",
          "AUS",
          "AUT",
          "AZE",
          "BDI",
          "BEL",
          "BEN",
          "BES",
          "BFA",
          "BGD",
          "BGR",
          "BHR",
          "BHS",
          "BIH",
          "BLM",
          "BLR",
          "BLZ",
          "BMU",
          "BOL",
          "BRA",
          "BRB",
          "BRN",
          "BTN",
          "BWA",
          "CAF",
          "CAN",
          "CHE",
          "CHL",
          "CHN",
          "CIV",
          "CMR",
          "COD",
          "COG",
          "COK",
          "COL",
          "COM",
          "CPV",
          "CRI",
          "CUB",
          "CUW",
          "CYM",
          "CYP",
          "CZE",
          "DEU",
          "DJI",
          "DMA",
          "DNK",
          "DOM",
          "DZA",
          "ECU",
          "EGY",
          "ERI",
          "ESP",
          "EST",
          "ETH",
          "FIN",
          "FJI",
          "FLK",
          "FRA",
          "FRO",
          "FSM",
          "GAB",
          "GBR",
          "GEO",
          "GGY",
          "GHA",
          "GIB",
          "GIN",
          "GLP",
          "GMB",
          "GNB",
          "GNQ",
          "GRC",
          "GRD",
          "GRL",
          "GTM",
          "GUF",
          "GUM",
          "GUY",
          "HND",
          "HRV",
          "HTI",
          "HUN",
          "IDN",
          "IMN",
          "IND",
          "IRL",
          "IRN",
          "IRQ",
          "ISL",
          "ISR",
          "ITA",
          "JAM",
          "JEY",
          "JOR",
          "JPN",
          "KAZ",
          "KEN",
          "KGZ",
          "KHM",
          "KIR",
          "KNA",
          "KOR",
          "KWT",
          "LAO",
          "LBN",
          "LBR",
          "LBY",
          "LCA",
          "LIE",
          "LKA",
          "LSO",
          "LTU",
          "LUX",
          "LVA",
          "MAF",
          "MAR",
          "MCO",
          "MDA",
          "MDG",
          "MDV",
          "MEX",
          "MHL",
          "MKD",
          "MLI",
          "MLT",
          "MMR",
          "MNE",
          "MNG",
          "MNP",
          "MOZ",
          "MRT",
          "MSR",
          "MTQ",
          "MUS",
          "MWI",
          "MYS",
          "MYT",
          "NAM",
          "NCL",
          "NER",
          "NGA",
          "NIC",
          "NIU",
          "NLD",
          "NOR",
          "NPL",
          "NRU",
          "NZL",
          "OMN",
          "PAK",
          "PAN",
          "PCN",
          "PER",
          "PHL",
          "PLW",
          "PNG",
          "POL",
          "PRI",
          "PRK",
          "PRT",
          "PRY",
          "PSE",
          "PYF",
          "QAT",
          "REU",
          "ROU",
          "RUS",
          "RWA",
          "SAU",
          "SDN",
          "SEN",
          "SGP",
          "SHN",
          "SLB",
          "SLE",
          "SLV",
          "SMR",
          "SOM",
          "SPM",
          "SRB",
          "SSD",
          "STP",
          "SUR",
          "SVK",
          "SVN",
          "SWE",
          "SWZ",
          "SXM",
          "SYC",
          "SYR",
          "TCA",
          "TCD",
          "TGO",
          "THA",
          "TJK",
          "TKL",
          "TKM",
          "TLS",
          "TON",
          "TTO",
          "TUN",
          "TUR",
          "TUV",
          "TZA",
          "UGA",
          "UKR",
          "URY",
          "USA",
          "UZB",
          "VAT",
          "VCT",
          "VEN",
          "VGB",
          "VIR",
          "VNM",
          "VUT",
          "WLF",
          "WSM",
          "YEM",
          "ZAF",
          "ZMB",
          "ZWE"
         ],
         "name": "",
         "type": "choropleth",
         "z": {
          "bdata": "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",
          "dtype": "f8"
         }
        }
       ],
       "layout": {
        "coloraxis": {
         "colorbar": {
          "title": {
           "text": "total_cases"
          }
         },
         "colorscale": [
          [
           0,
           "rgb(255,245,240)"
          ],
          [
           0.125,
           "rgb(254,224,210)"
          ],
          [
           0.25,
           "rgb(252,187,161)"
          ],
          [
           0.375,
           "rgb(252,146,114)"
          ],
          [
           0.5,
           "rgb(251,106,74)"
          ],
          [
           0.625,
           "rgb(239,59,44)"
          ],
          [
           0.75,
           "rgb(203,24,29)"
          ],
          [
           0.875,
           "rgb(165,15,21)"
          ],
          [
           1,
           "rgb(103,0,13)"
          ]
         ]
        },
        "geo": {
         "center": {},
         "domain": {
          "x": [
           0,
           1
          ],
          "y": [
           0,
           1
          ]
         }
        },
        "legend": {
         "tracegroupgap": 0
        },
        "template": {
         "data": {
          "bar": [
           {
            "error_x": {
             "color": "#2a3f5f"
            },
            "error_y": {
             "color": "#2a3f5f"
            },
            "marker": {
             "line": {
              "color": "#E5ECF6",
              "width": 0.5
             },
             "pattern": {
              "fillmode": "overlay",
              "size": 10,
              "solidity": 0.2
             }
            },
            "type": "bar"
           }
          ],
          "barpolar": [
           {
            "marker": {
             "line": {
              "color": "#E5ECF6",
              "width": 0.5
             },
             "pattern": {
              "fillmode": "overlay",
              "size": 10,
              "solidity": 0.2
             }
            },
            "type": "barpolar"
           }
          ],
          "carpet": [
           {
            "aaxis": {
             "endlinecolor": "#2a3f5f",
             "gridcolor": "white",
             "linecolor": "white",
             "minorgridcolor": "white",
             "startlinecolor": "#2a3f5f"
            },
            "baxis": {
             "endlinecolor": "#2a3f5f",
             "gridcolor": "white",
             "linecolor": "white",
             "minorgridcolor": "white",
             "startlinecolor": "#2a3f5f"
            },
            "type": "carpet"
           }
          ],
          "choropleth": [
           {
            "colorbar": {
             "outlinewidth": 0,
             "ticks": ""
            },
            "type": "choropleth"
           }
          ],
          "contour": [
           {
            "colorbar": {
             "outlinewidth": 0,
             "ticks": ""
            },
            "colorscale": [
             [
              0,
              "#0d0887"
             ],
             [
              0.1111111111111111,
              "#46039f"
             ],
             [
              0.2222222222222222,
              "#7201a8"
             ],
             [
              0.3333333333333333,
              "#9c179e"
             ],
             [
              0.4444444444444444,
              "#bd3786"
             ],
             [
              0.5555555555555556,
              "#d8576b"
             ],
             [
              0.6666666666666666,
              "#ed7953"
             ],
             [
              0.7777777777777778,
              "#fb9f3a"
             ],
             [
              0.8888888888888888,
              "#fdca26"
             ],
             [
              1,
              "#f0f921"
             ]
            ],
            "type": "contour"
           }
          ],
          "contourcarpet": [
           {
            "colorbar": {
             "outlinewidth": 0,
             "ticks": ""
            },
            "type": "contourcarpet"
           }
          ],
          "heatmap": [
           {
            "colorbar": {
             "outlinewidth": 0,
             "ticks": ""
            },
            "colorscale": [
             [
              0,
              "#0d0887"
             ],
             [
              0.1111111111111111,
              "#46039f"
             ],
             [
              0.2222222222222222,
              "#7201a8"
             ],
             [
              0.3333333333333333,
              "#9c179e"
             ],
             [
              0.4444444444444444,
              "#bd3786"
             ],
             [
              0.5555555555555556,
              "#d8576b"
             ],
             [
              0.6666666666666666,
              "#ed7953"
             ],
             [
              0.7777777777777778,
              "#fb9f3a"
             ],
             [
              0.8888888888888888,
              "#fdca26"
             ],
             [
              1,
              "#f0f921"
             ]
            ],
            "type": "heatmap"
           }
          ],
          "histogram": [
           {
            "marker": {
             "pattern": {
              "fillmode": "overlay",
              "size": 10,
              "solidity": 0.2
             }
            },
            "type": "histogram"
           }
          ],
          "histogram2d": [
           {
            "colorbar": {
             "outlinewidth": 0,
             "ticks": ""
            },
            "colorscale": [
             [
              0,
              "#0d0887"
             ],
             [
              0.1111111111111111,
              "#46039f"
             ],
             [
              0.2222222222222222,
              "#7201a8"
             ],
             [
              0.3333333333333333,
              "#9c179e"
             ],
             [
              0.4444444444444444,
              "#bd3786"
             ],
             [
              0.5555555555555556,
              "#d8576b"
             ],
             [
              0.6666666666666666,
              "#ed7953"
             ],
             [
              0.7777777777777778,
              "#fb9f3a"
             ],
             [
              0.8888888888888888,
              "#fdca26"
             ],
             [
              1,
              "#f0f921"
             ]
            ],
            "type": "histogram2d"
           }
          ],
          "histogram2dcontour": [
           {
            "colorbar": {
             "outlinewidth": 0,
             "ticks": ""
            },
            "colorscale": [
             [
              0,
              "#0d0887"
             ],
             [
              0.1111111111111111,
              "#46039f"
             ],
             [
              0.2222222222222222,
              "#7201a8"
             ],
             [
              0.3333333333333333,
              "#9c179e"
             ],
             [
              0.4444444444444444,
              "#bd3786"
             ],
             [
              0.5555555555555556,
              "#d8576b"
             ],
             [
              0.6666666666666666,
              "#ed7953"
             ],
             [
              0.7777777777777778,
              "#fb9f3a"
             ],
             [
              0.8888888888888888,
              "#fdca26"
             ],
             [
              1,
              "#f0f921"
             ]
            ],
            "type": "histogram2dcontour"
           }
          ],
          "mesh3d": [
           {
            "colorbar": {
             "outlinewidth": 0,
             "ticks": ""
            },
            "type": "mesh3d"
           }
          ],
          "parcoords": [
           {
            "line": {
             "colorbar": {
              "outlinewidth": 0,
              "ticks": ""
             }
            },
            "type": "parcoords"
           }
          ],
          "pie": [
           {
            "automargin": true,
            "type": "pie"
           }
          ],
          "scatter": [
           {
            "fillpattern": {
             "fillmode": "overlay",
             "size": 10,
             "solidity": 0.2
            },
            "type": "scatter"
           }
          ],
          "scatter3d": [
           {
            "line": {
             "colorbar": {
              "outlinewidth": 0,
              "ticks": ""
             }
            },
            "marker": {
             "colorbar": {
              "outlinewidth": 0,
              "ticks": ""
             }
            },
            "type": "scatter3d"
           }
          ],
          "scattercarpet": [
           {
            "marker": {
             "colorbar": {
              "outlinewidth": 0,
              "ticks": ""
             }
            },
            "type": "scattercarpet"
           }
          ],
          "scattergeo": [
           {
            "marker": {
             "colorbar": {
              "outlinewidth": 0,
              "ticks": ""
             }
            },
            "type": "scattergeo"
           }
          ],
          "scattergl": [
           {
            "marker": {
             "colorbar": {
              "outlinewidth": 0,
              "ticks": ""
             }
            },
            "type": "scattergl"
           }
          ],
          "scattermap": [
           {
            "marker": {
             "colorbar": {
              "outlinewidth": 0,
              "ticks": ""
             }
            },
            "type": "scattermap"
           }
          ],
          "scattermapbox": [
           {
            "marker": {
             "colorbar": {
              "outlinewidth": 0,
              "ticks": ""
             }
            },
            "type": "scattermapbox"
           }
          ],
          "scatterpolar": [
           {
            "marker": {
             "colorbar": {
              "outlinewidth": 0,
              "ticks": ""
             }
            },
            "type": "scatterpolar"
           }
          ],
          "scatterpolargl": [
           {
            "marker": {
             "colorbar": {
              "outlinewidth": 0,
              "ticks": ""
             }
            },
            "type": "scatterpolargl"
           }
          ],
          "scatterternary": [
           {
            "marker": {
             "colorbar": {
              "outlinewidth": 0,
              "ticks": ""
             }
            },
            "type": "scatterternary"
           }
          ],
          "surface": [
           {
            "colorbar": {
             "outlinewidth": 0,
             "ticks": ""
            },
            "colorscale": [
             [
              0,
              "#0d0887"
             ],
             [
              0.1111111111111111,
              "#46039f"
             ],
             [
              0.2222222222222222,
              "#7201a8"
             ],
             [
              0.3333333333333333,
              "#9c179e"
             ],
             [
              0.4444444444444444,
              "#bd3786"
             ],
             [
              0.5555555555555556,
              "#d8576b"
             ],
             [
              0.6666666666666666,
              "#ed7953"
             ],
             [
              0.7777777777777778,
              "#fb9f3a"
             ],
             [
              0.8888888888888888,
              "#fdca26"
             ],
             [
              1,
              "#f0f921"
             ]
            ],
            "type": "surface"
           }
          ],
          "table": [
           {
            "cells": {
             "fill": {
              "color": "#EBF0F8"
             },
             "line": {
              "color": "white"
             }
            },
            "header": {
             "fill": {
              "color": "#C8D4E3"
             },
             "line": {
              "color": "white"
             }
            },
            "type": "table"
           }
          ]
         },
         "layout": {
          "annotationdefaults": {
           "arrowcolor": "#2a3f5f",
           "arrowhead": 0,
           "arrowwidth": 1
          },
          "autotypenumbers": "strict",
          "coloraxis": {
           "colorbar": {
            "outlinewidth": 0,
            "ticks": ""
           }
          },
          "colorscale": {
           "diverging": [
            [
             0,
             "#8e0152"
            ],
            [
             0.1,
             "#c51b7d"
            ],
            [
             0.2,
             "#de77ae"
            ],
            [
             0.3,
             "#f1b6da"
            ],
            [
             0.4,
             "#fde0ef"
            ],
            [
             0.5,
             "#f7f7f7"
            ],
            [
             0.6,
             "#e6f5d0"
            ],
            [
             0.7,
             "#b8e186"
            ],
            [
             0.8,
             "#7fbc41"
            ],
            [
             0.9,
             "#4d9221"
            ],
            [
             1,
             "#276419"
            ]
           ],
           "sequential": [
            [
             0,
             "#0d0887"
            ],
            [
             0.1111111111111111,
             "#46039f"
            ],
            [
             0.2222222222222222,
             "#7201a8"
            ],
            [
             0.3333333333333333,
             "#9c179e"
            ],
            [
             0.4444444444444444,
             "#bd3786"
            ],
            [
             0.5555555555555556,
             "#d8576b"
            ],
            [
             0.6666666666666666,
             "#ed7953"
            ],
            [
             0.7777777777777778,
             "#fb9f3a"
            ],
            [
             0.8888888888888888,
             "#fdca26"
            ],
            [
             1,
             "#f0f921"
            ]
           ],
           "sequentialminus": [
            [
             0,
             "#0d0887"
            ],
            [
             0.1111111111111111,
             "#46039f"
            ],
            [
             0.2222222222222222,
             "#7201a8"
            ],
            [
             0.3333333333333333,
             "#9c179e"
            ],
            [
             0.4444444444444444,
             "#bd3786"
            ],
            [
             0.5555555555555556,
             "#d8576b"
            ],
            [
             0.6666666666666666,
             "#ed7953"
            ],
            [
             0.7777777777777778,
             "#fb9f3a"
            ],
            [
             0.8888888888888888,
             "#fdca26"
            ],
            [
             1,
             "#f0f921"
            ]
           ]
          },
          "colorway": [
           "#636efa",
           "#EF553B",
           "#00cc96",
           "#ab63fa",
           "#FFA15A",
           "#19d3f3",
           "#FF6692",
           "#B6E880",
           "#FF97FF",
           "#FECB52"
          ],
          "font": {
           "color": "#2a3f5f"
          },
          "geo": {
           "bgcolor": "white",
           "lakecolor": "white",
           "landcolor": "#E5ECF6",
           "showlakes": true,
           "showland": true,
           "subunitcolor": "white"
          },
          "hoverlabel": {
           "align": "left"
          },
          "hovermode": "closest",
          "mapbox": {
           "style": "light"
          },
          "paper_bgcolor": "white",
          "plot_bgcolor": "#E5ECF6",
          "polar": {
           "angularaxis": {
            "gridcolor": "white",
            "linecolor": "white",
            "ticks": ""
           },
           "bgcolor": "#E5ECF6",
           "radialaxis": {
            "gridcolor": "white",
            "linecolor": "white",
            "ticks": ""
           }
          },
          "scene": {
           "xaxis": {
            "backgroundcolor": "#E5ECF6",
            "gridcolor": "white",
            "gridwidth": 2,
            "linecolor": "white",
            "showbackground": true,
            "ticks": "",
            "zerolinecolor": "white"
           },
           "yaxis": {
            "backgroundcolor": "#E5ECF6",
            "gridcolor": "white",
            "gridwidth": 2,
            "linecolor": "white",
            "showbackground": true,
            "ticks": "",
            "zerolinecolor": "white"
           },
           "zaxis": {
            "backgroundcolor": "#E5ECF6",
            "gridcolor": "white",
            "gridwidth": 2,
            "linecolor": "white",
            "showbackground": true,
            "ticks": "",
            "zerolinecolor": "white"
           }
          },
          "shapedefaults": {
           "line": {
            "color": "#2a3f5f"
           }
          },
          "ternary": {
           "aaxis": {
            "gridcolor": "white",
            "linecolor": "white",
            "ticks": ""
           },
           "baxis": {
            "gridcolor": "white",
            "linecolor": "white",
            "ticks": ""
           },
           "bgcolor": "#E5ECF6",
           "caxis": {
            "gridcolor": "white",
            "linecolor": "white",
            "ticks": ""
           }
          },
          "title": {
           "x": 0.05
          },
          "xaxis": {
           "automargin": true,
           "gridcolor": "white",
           "linecolor": "white",
           "ticks": "",
           "title": {
            "standoff": 15
           },
           "zerolinecolor": "white",
           "zerolinewidth": 2
          },
          "yaxis": {
           "automargin": true,
           "gridcolor": "white",
           "linecolor": "white",
           "ticks": "",
           "title": {
            "standoff": 15
           },
           "zerolinecolor": "white",
           "zerolinewidth": 2
          }
         }
        },
        "title": {
         "text": "All-Time Total COVID-19 Cases by Country"
        }
       }
      },
      "image/png": "[encoded data removed]"
     },
     "metadata": {},
     "output_type": "display_data"
    }
   ],
   "source": [
    "# Choropleth for all cases\n",
    "df = pd.read_csv(\"owid-covid-data.csv\")\n",
    "df['date'] = pd.to_datetime(df['date'])\n",
    "df = df[df['iso_code'].str.len() == 3]\n",
    "agg_df = df.groupby(['iso_code', 'location'])['total_cases'].max().reset_index()\n",
    "agg_df = agg_df.dropna(subset=['total_cases'])\n",
    "\n",
    "# Plot the map\n",
    "fig = px.choropleth(\n",
    "    agg_df,\n",
    "    locations=\"iso_code\",\n",
    "    color=\"total_cases\",\n",
    "    hover_name=\"location\",\n",
    "    color_continuous_scale=\"Reds\",\n",
    "    title=\"All-Time Total COVID-19 Cases by Country\"\n",
    ")\n",
    "fig.show()"
   ]
  },
  {
   "cell_type": "code",
   "execution_count": 23,
   "id": "e1920fca-b498-4ab2-a808-cc81fe259148",
   "metadata": {},
   "outputs": [
    {
     "name": "stdout",
     "output_type": "stream",
     "text": [
      "Top 10 Countries by Total Cases:\n",
      "            location  total_cases\n",
      "224   United States  103436829.0\n",
      "42            China   99373219.0\n",
      "96            India   45041748.0\n",
      "72           France   38997490.0\n",
      "78          Germany   38437756.0\n",
      "28           Brazil   37511921.0\n",
      "198     South Korea   34571873.0\n",
      "105           Japan   33803572.0\n",
      "103           Italy   26781078.0\n",
      "223  United Kingdom   24974629.0 \n",
      "\n",
      "Top 10 Countries by Total Deaths:\n",
      "            location  total_deaths\n",
      "224   United States     1193165.0\n",
      "28           Brazil      702116.0\n",
      "96            India      533623.0\n",
      "174          Russia      403188.0\n",
      "134          Mexico      334551.0\n",
      "223  United Kingdom      232112.0\n",
      "165            Peru      220975.0\n",
      "103           Italy      197307.0\n",
      "78          Germany      174979.0\n",
      "72           France      168091.0 \n",
      "\n",
      "Top 10 Countries by Total Vaccinations:\n",
      "           location  total_vaccinations\n",
      "42           China        3.491077e+09\n",
      "96           India        2.206868e+09\n",
      "224  United States        6.767288e+08\n",
      "28          Brazil        4.864364e+08\n",
      "97       Indonesia        4.481999e+08\n",
      "105          Japan        3.837477e+08\n",
      "16      Bangladesh        3.617426e+08\n",
      "159       Pakistan        3.409741e+08\n",
      "231        Vietnam        2.664921e+08\n",
      "134         Mexico        2.231590e+08 \n",
      "\n",
      "Top 10 Countries by Death Rate:\n",
      "                    location  death_rate\n",
      "234                   Yemen    0.180745\n",
      "202                   Sudan    0.078852\n",
      "206                   Syria    0.055082\n",
      "196                 Somalia    0.049791\n",
      "165                    Peru    0.048813\n",
      "61                    Egypt    0.048118\n",
      "134                  Mexico    0.043907\n",
      "26   Bosnia and Herzegovina    0.040608\n",
      "117                 Liberia    0.037074\n",
      "0               Afghanistan    0.034003 \n",
      "\n",
      "📌 Summary Insights:\n",
      "✅ China had the highest total vaccinations as of each country's latest available date.\n",
      "✅ United States had the highest total confirmed COVID-19 cases globally.\n",
      "✅ India experienced the steepest daily case spikes in 2021 (based on trend analysis).\n",
      "✅ Kenya had slower vaccine rollout and relatively lower case counts compared to global averages.\n",
      "✅ Death rates have decreased over time, likely due to vaccine rollout and improved treatment.\n"
     ]
    }
   ],
   "source": [
    "# Data Insights\n",
    "df = pd.read_csv(\"owid-covid-data.csv\")\n",
    "df['date'] = pd.to_datetime(df['date'])\n",
    "df = df[df['iso_code'].str.len() == 3]  \n",
    "\n",
    "# Get the latest available row per country\n",
    "latest = df.sort_values('date').groupby('location').last().reset_index()\n",
    "\n",
    "# ----------------- Insights -----------------\n",
    "\n",
    "# Top 10 Countries by Total Cases\n",
    "top_cases = latest[['location', 'total_cases']].dropna().sort_values('total_cases', ascending=False).head(10)\n",
    "print(\"Top 10 Countries by Total Cases:\\n\", top_cases, \"\\n\")\n",
    "\n",
    "# Top 10 Countries by Total Deaths\n",
    "top_deaths = latest[['location', 'total_deaths']].dropna().sort_values('total_deaths', ascending=False).head(10)\n",
    "print(\"Top 10 Countries by Total Deaths:\\n\", top_deaths, \"\\n\")\n",
    "\n",
    "# Top 10 Countries by Total Vaccinations\n",
    "top_vax = latest[['location', 'total_vaccinations']].dropna().sort_values('total_vaccinations', ascending=False).head(10)\n",
    "print(\"Top 10 Countries by Total Vaccinations:\\n\", top_vax, \"\\n\")\n",
    "\n",
    "# Top 10 Countries by Death Rate (Deaths / Cases)\n",
    "death_rate_df = latest[['location', 'total_cases', 'total_deaths']].dropna()\n",
    "death_rate_df['death_rate'] = death_rate_df['total_deaths'] / death_rate_df['total_cases']\n",
    "highest_death_rate = death_rate_df.sort_values(by='death_rate', ascending=False).head(10)\n",
    "print(\"Top 10 Countries by Death Rate:\\n\", highest_death_rate[['location', 'death_rate']], \"\\n\")\n",
    "\n",
    "# ----------------- Summary Insights -----------------\n",
    "summary_insights = [\n",
    "    f\"✅ {top_vax.iloc[0]['location']} had the highest total vaccinations as of each country's latest available date.\",\n",
    "    f\"✅ {top_cases.iloc[0]['location']} had the highest total confirmed COVID-19 cases globally.\",\n",
    "    \"✅ India experienced the steepest daily case spikes in 2021 (based on trend analysis).\",\n",
    "    \"✅ Kenya had slower vaccine rollout and relatively lower case counts compared to global averages.\",\n",
    "    \"✅ Death rates have decreased over time, likely due to vaccine rollout and improved treatment.\"\n",
    "]\n",
    "\n",
    "print(\"📌 Summary Insights:\")\n",
    "for insight in summary_insights:\n",
    "    print(insight)"
   ]
  }
 ],
 "metadata": {
  "kernelspec": {
   "display_name": "Python 3 (ipykernel)",
   "language": "python",
   "name": "python3"
  },
  "language_info": {
   "codemirror_mode": {
    "name": "ipython",
    "version": 3
   },
   "file_extension": ".py",
   "mimetype": "text/x-python",
   "name": "python",
   "nbconvert_exporter": "python",
   "pygments_lexer": "ipython3",
   "version": "3.13.3"
  }
 },
 "nbformat": 4,
 "nbformat_minor": 5
}
